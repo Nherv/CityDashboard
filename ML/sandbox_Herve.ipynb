{
 "cells": [
  {
   "cell_type": "markdown",
   "metadata": {},
   "source": [
    "# Packages"
   ]
  },
  {
   "cell_type": "code",
   "execution_count": 11,
   "metadata": {
    "collapsed": true
   },
   "outputs": [],
   "source": [
    "import matplotlib.pyplot as plt\n",
    "import json\n",
    "import numpy as np\n",
    "import pandas as pd\n",
    "import matplotlib.pyplot as plt\n",
    "import copy\n",
    "\n",
    "from pandas.io.json import json_normalize\n",
    "from sklearn import cluster, preprocessing\n",
    "from mpl_toolkits.mplot3d import Axes3D\n",
    "from IPython.display import set_matplotlib_formats\n",
    "%matplotlib inline"
   ]
  },
  {
   "cell_type": "markdown",
   "metadata": {},
   "source": [
    "# Dataframe retrieval"
   ]
  },
  {
   "cell_type": "code",
   "execution_count": 2,
   "metadata": {
    "collapsed": true
   },
   "outputs": [],
   "source": [
    "# open Budget dataframe\n",
    "with open('static_dic/budgets_idf.json') as file:\n",
    "    data = json.load(file)\n",
    "\n",
    "df_budget = pd.DataFrame.from_dict(json_normalize(data), orient='columns')\n",
    "df_budget.set_index('code', inplace=True)"
   ]
  },
  {
   "cell_type": "code",
   "execution_count": 3,
   "metadata": {
    "collapsed": true
   },
   "outputs": [],
   "source": [
    "# open Chomage dataframe\n",
    "with open('static_dic/chomage.json') as file:\n",
    "    data = json.load(file)\n",
    "\n",
    "df_chomage = pd.DataFrame.from_dict(json_normalize(data), orient='columns')\n",
    "df_chomage.set_index('code', inplace=True)"
   ]
  },
  {
   "cell_type": "code",
   "execution_count": 4,
   "metadata": {
    "collapsed": true
   },
   "outputs": [],
   "source": [
    "# open Partis dataframe\n",
    "with open('static_dic/partisidf.json') as file:\n",
    "    data = json.load(file)\n",
    "\n",
    "df_partis = pd.DataFrame.from_dict(json_normalize(data), orient='columns')\n",
    "df_partis.set_index('code', inplace=True)"
   ]
  },
  {
   "cell_type": "code",
   "execution_count": 5,
   "metadata": {
    "collapsed": true
   },
   "outputs": [],
   "source": [
    "# open Logmement dataframe\n",
    "with open('static/logement.json') as file:\n",
    "    data = json.load(file)\n",
    "\n",
    "df_logement = pd.DataFrame.from_dict(json_normalize(data), orient='columns')\n",
    "df_logement.set_index('inseecode', inplace=True)"
   ]
  },
  {
   "cell_type": "code",
   "execution_count": 6,
   "metadata": {
    "collapsed": false
   },
   "outputs": [
    {
     "data": {
      "text/plain": [
       "Index(['NbLycees_2008', 'NbLycees_2009', 'NbLycees_2010', 'NbLycees_2011',\n",
       "       'NbLycees_2012', 'NbLycees_2013', 'NbLycees_2014', 'NbLycees_2015',\n",
       "       'NbLycees_2016', 'NbLycees_2017', 'PrivÃ©_2008', 'PrivÃ©_2009',\n",
       "       'PrivÃ©_2010', 'PrivÃ©_2011', 'PrivÃ©_2012', 'PrivÃ©_2013',\n",
       "       'PrivÃ©_2014', 'PrivÃ©_2015', 'PrivÃ©_2016', 'PrivÃ©_2017',\n",
       "       'Public_2008', 'Public_2009', 'Public_2010', 'Public_2011',\n",
       "       'Public_2012', 'Public_2013', 'Public_2014', 'Public_2015',\n",
       "       'Public_2016', 'Public_2017', 'Resultat_2008_(50)',\n",
       "       'Resultat_2008_(50-70)', 'Resultat_2008_(70-80)',\n",
       "       'Resultat_2008_(80-90)', 'Resultat_2008_(90)', 'Resultat_2009_(50)',\n",
       "       'Resultat_2009_(50-70)', 'Resultat_2009_(70-80)',\n",
       "       'Resultat_2009_(80-90)', 'Resultat_2009_(90)', 'Resultat_2010_(50)',\n",
       "       'Resultat_2010_(50-70)', 'Resultat_2010_(70-80)',\n",
       "       'Resultat_2010_(80-90)', 'Resultat_2010_(90)', 'Resultat_2011_(50)',\n",
       "       'Resultat_2011_(50-70)', 'Resultat_2011_(70-80)',\n",
       "       'Resultat_2011_(80-90)', 'Resultat_2011_(90)', 'Resultat_2012_(50)',\n",
       "       'Resultat_2012_(50-70)', 'Resultat_2012_(70-80)',\n",
       "       'Resultat_2012_(80-90)', 'Resultat_2012_(90)', 'Resultat_2013_(50)',\n",
       "       'Resultat_2013_(50-70)', 'Resultat_2013_(70-80)',\n",
       "       'Resultat_2013_(80-90)', 'Resultat_2013_(90)', 'Resultat_2014_(50)',\n",
       "       'Resultat_2014_(50-70)', 'Resultat_2014_(70-80)',\n",
       "       'Resultat_2014_(80-90)', 'Resultat_2014_(90)', 'Resultat_2015_(50)',\n",
       "       'Resultat_2015_(50-70)', 'Resultat_2015_(70-80)',\n",
       "       'Resultat_2015_(80-90)', 'Resultat_2015_(90)', 'Resultat_2016_(50)',\n",
       "       'Resultat_2016_(50-70)', 'Resultat_2016_(70-80)',\n",
       "       'Resultat_2016_(80-90)', 'Resultat_2016_(90)', 'Resultat_2017_(50)',\n",
       "       'Resultat_2017_(50-70)', 'Resultat_2017_(70-80)',\n",
       "       'Resultat_2017_(80-90)', 'Resultat_2017_(90)'],\n",
       "      dtype='object')"
      ]
     },
     "execution_count": 6,
     "metadata": {},
     "output_type": "execute_result"
    }
   ],
   "source": [
    "# open Bac dataframe\n",
    "with open('static_dic/Bac_js2.json') as file:\n",
    "    data = json.load(file)\n",
    "\n",
    "df_bac = pd.DataFrame.from_dict(json_normalize(data), orient='columns')\n",
    "df_bac.set_index('Code', inplace=True)\n",
    "\n",
    "df_bac.columns"
   ]
  },
  {
   "cell_type": "code",
   "execution_count": 7,
   "metadata": {
    "collapsed": false
   },
   "outputs": [
    {
     "data": {
      "text/plain": [
       "Index(['ETI_rate', 'Employee_0_rate', 'Employee_1000_1999_rate',\n",
       "       'Employee_100_199_rate', 'Employee_10_19_rate', 'Employee_1_2_rate',\n",
       "       'Employee_2000_4999_rate', 'Employee_200_249_rate',\n",
       "       'Employee_20_49_rate', 'Employee_250_499_rate', 'Employee_3_5_rate',\n",
       "       'Employee_5000_9999_rate', 'Employee_500_999_rate',\n",
       "       'Employee_50_99_rate', 'Employee_6_9_rate', 'Employee_over_10000_rate',\n",
       "       'Firms_Nb', 'GE_rate', 'PME_rate'],\n",
       "      dtype='object')"
      ]
     },
     "execution_count": 7,
     "metadata": {},
     "output_type": "execute_result"
    }
   ],
   "source": [
    "# open Siren dataframe\n",
    "with open('static_dic/sirene_93_01_01_18.json') as file:\n",
    "    data = json.load(file)\n",
    "\n",
    "df_siren = pd.DataFrame.from_dict(json_normalize(data), orient='columns')\n",
    "df_siren.set_index('Insee', inplace=True)\n",
    "\n",
    "df_siren.columns"
   ]
  },
  {
   "cell_type": "code",
   "execution_count": 8,
   "metadata": {
    "collapsed": false
   },
   "outputs": [
    {
     "data": {
      "text/plain": [
       "Index(['Pop1999', 'Pop2006', 'Pop2007', 'Pop2008', 'Pop2009', 'Pop2010',\n",
       "       'Pop2011', 'Pop2012', 'Pop2013', 'Pop2014', 'Pop2015', 'nom'],\n",
       "      dtype='object')"
      ]
     },
     "execution_count": 8,
     "metadata": {},
     "output_type": "execute_result"
    }
   ],
   "source": [
    "# open population dataframe\n",
    "with open('static_dic/population.json') as file:\n",
    "    data = json.load(file)\n",
    "\n",
    "df_population = pd.DataFrame.from_dict(json_normalize(data), orient='columns')\n",
    "df_population.set_index('code', inplace=True)\n",
    "\n",
    "df_population.columns"
   ]
  },
  {
   "cell_type": "markdown",
   "metadata": {},
   "source": [
    "# Full dataframe preprocessing"
   ]
  },
  {
   "cell_type": "code",
   "execution_count": 9,
   "metadata": {
    "collapsed": true
   },
   "outputs": [],
   "source": [
    "# concatenate dataframes \n",
    "df = pd.concat([df_bac, df_budget, df_chomage, df_logement, df_partis, df_population], axis=1, join='outer')"
   ]
  },
  {
   "cell_type": "code",
   "execution_count": 10,
   "metadata": {
    "collapsed": false
   },
   "outputs": [
    {
     "data": {
      "text/plain": [
       "NbLycees_2008          231\n",
       "NbLycees_2009          231\n",
       "NbLycees_2010          231\n",
       "NbLycees_2011          231\n",
       "NbLycees_2012          231\n",
       "NbLycees_2013          231\n",
       "NbLycees_2014          231\n",
       "NbLycees_2015          231\n",
       "NbLycees_2016          231\n",
       "NbLycees_2017          231\n",
       "PrivÃ©_2008            231\n",
       "PrivÃ©_2009            231\n",
       "PrivÃ©_2010            231\n",
       "PrivÃ©_2011            231\n",
       "PrivÃ©_2012            231\n",
       "PrivÃ©_2013            231\n",
       "PrivÃ©_2014            231\n",
       "PrivÃ©_2015            231\n",
       "PrivÃ©_2016            231\n",
       "PrivÃ©_2017            231\n",
       "Public_2008            231\n",
       "Public_2009            231\n",
       "Public_2010            231\n",
       "Public_2011            231\n",
       "Public_2012            231\n",
       "Public_2013            231\n",
       "Public_2014            231\n",
       "Public_2015            231\n",
       "Public_2016            231\n",
       "Public_2017            231\n",
       "                      ... \n",
       "recettes_2005         1281\n",
       "recettes_2006         1281\n",
       "recettes_2007         1280\n",
       "recettes_2008         1280\n",
       "recettes_2009         1281\n",
       "recettes_2010         1281\n",
       "recettes_2011         1281\n",
       "recettes_2012         1281\n",
       "recettes_2013         1281\n",
       "recettes_2014         1281\n",
       "recettes_2015         1280\n",
       "chomage               1277\n",
       "housing               1277\n",
       "main_res              1277\n",
       "portion_hlm_tenant    1277\n",
       "partis.2001           1278\n",
       "partis.2008           1278\n",
       "partis.2014           1278\n",
       "Pop1999               1301\n",
       "Pop2006               1301\n",
       "Pop2007               1301\n",
       "Pop2008               1301\n",
       "Pop2009               1301\n",
       "Pop2010               1301\n",
       "Pop2011               1301\n",
       "Pop2012               1301\n",
       "Pop2013               1301\n",
       "Pop2014               1301\n",
       "Pop2015               1301\n",
       "nom                   1301\n",
       "Length: 419, dtype: int64"
      ]
     },
     "execution_count": 10,
     "metadata": {},
     "output_type": "execute_result"
    }
   ],
   "source": [
    "df.notnull().sum()"
   ]
  },
  {
   "cell_type": "code",
   "execution_count": null,
   "metadata": {
    "collapsed": false
   },
   "outputs": [],
   "source": [
    "# Create new feature for bac \n",
    "df['Ratio_Resultat_2014_(90)'] = df['Resultat_2014_(90)'] / df['NbLycees_2014']\n",
    "df['Ratio_Resultat_2014_(90)'].describe()"
   ]
  },
  {
   "cell_type": "code",
   "execution_count": 12,
   "metadata": {
    "collapsed": false,
    "scrolled": true
   },
   "outputs": [
    {
     "name": "stdout",
     "output_type": "stream",
     "text": [
      "Before drop NA partis : (1302, 419)\n",
      "After drop NA partis : (511, 419)\n"
     ]
    },
    {
     "data": {
      "text/html": [
       "<div>\n",
       "<style>\n",
       "    .dataframe thead tr:only-child th {\n",
       "        text-align: right;\n",
       "    }\n",
       "\n",
       "    .dataframe thead th {\n",
       "        text-align: left;\n",
       "    }\n",
       "\n",
       "    .dataframe tbody tr th {\n",
       "        vertical-align: top;\n",
       "    }\n",
       "</style>\n",
       "<table border=\"1\" class=\"dataframe\">\n",
       "  <thead>\n",
       "    <tr style=\"text-align: right;\">\n",
       "      <th></th>\n",
       "      <th>NbLycees_2008</th>\n",
       "      <th>NbLycees_2009</th>\n",
       "      <th>NbLycees_2010</th>\n",
       "      <th>NbLycees_2011</th>\n",
       "      <th>NbLycees_2012</th>\n",
       "      <th>NbLycees_2013</th>\n",
       "      <th>NbLycees_2014</th>\n",
       "      <th>NbLycees_2015</th>\n",
       "      <th>NbLycees_2016</th>\n",
       "      <th>NbLycees_2017</th>\n",
       "      <th>...</th>\n",
       "      <th>Pop2007</th>\n",
       "      <th>Pop2008</th>\n",
       "      <th>Pop2009</th>\n",
       "      <th>Pop2010</th>\n",
       "      <th>Pop2011</th>\n",
       "      <th>Pop2012</th>\n",
       "      <th>Pop2013</th>\n",
       "      <th>Pop2014</th>\n",
       "      <th>Pop2015</th>\n",
       "      <th>nom</th>\n",
       "    </tr>\n",
       "  </thead>\n",
       "  <tbody>\n",
       "    <tr>\n",
       "      <th>75114</th>\n",
       "      <td>6.0</td>\n",
       "      <td>6.0</td>\n",
       "      <td>6.0</td>\n",
       "      <td>0.0</td>\n",
       "      <td>5.0</td>\n",
       "      <td>5.0</td>\n",
       "      <td>5.0</td>\n",
       "      <td>5.0</td>\n",
       "      <td>5.0</td>\n",
       "      <td>5.0</td>\n",
       "      <td>...</td>\n",
       "      <td>134382.0</td>\n",
       "      <td>136464.0</td>\n",
       "      <td>137189.0</td>\n",
       "      <td>138299.0</td>\n",
       "      <td>140317.0</td>\n",
       "      <td>141102.0</td>\n",
       "      <td>140799.0</td>\n",
       "      <td>141230.0</td>\n",
       "      <td>139992.0</td>\n",
       "      <td>PARIS 14E  ARRONDISSEMENT</td>\n",
       "    </tr>\n",
       "    <tr>\n",
       "      <th>75118</th>\n",
       "      <td>4.0</td>\n",
       "      <td>4.0</td>\n",
       "      <td>4.0</td>\n",
       "      <td>0.0</td>\n",
       "      <td>4.0</td>\n",
       "      <td>4.0</td>\n",
       "      <td>4.0</td>\n",
       "      <td>4.0</td>\n",
       "      <td>4.0</td>\n",
       "      <td>4.0</td>\n",
       "      <td>...</td>\n",
       "      <td>191523.0</td>\n",
       "      <td>196000.0</td>\n",
       "      <td>200631.0</td>\n",
       "      <td>202685.0</td>\n",
       "      <td>203127.0</td>\n",
       "      <td>201374.0</td>\n",
       "      <td>199519.0</td>\n",
       "      <td>199135.0</td>\n",
       "      <td>197580.0</td>\n",
       "      <td>PARIS 18E  ARRONDISSEMENT</td>\n",
       "    </tr>\n",
       "    <tr>\n",
       "      <th>78621</th>\n",
       "      <td>0.0</td>\n",
       "      <td>0.0</td>\n",
       "      <td>0.0</td>\n",
       "      <td>0.0</td>\n",
       "      <td>1.0</td>\n",
       "      <td>1.0</td>\n",
       "      <td>1.0</td>\n",
       "      <td>1.0</td>\n",
       "      <td>1.0</td>\n",
       "      <td>1.0</td>\n",
       "      <td>...</td>\n",
       "      <td>29327.0</td>\n",
       "      <td>28541.0</td>\n",
       "      <td>28638.0</td>\n",
       "      <td>29380.0</td>\n",
       "      <td>29563.0</td>\n",
       "      <td>29774.0</td>\n",
       "      <td>30979.0</td>\n",
       "      <td>31854.0</td>\n",
       "      <td>32346.0</td>\n",
       "      <td>TRAPPES</td>\n",
       "    </tr>\n",
       "    <tr>\n",
       "      <th>93014</th>\n",
       "      <td>0.0</td>\n",
       "      <td>0.0</td>\n",
       "      <td>0.0</td>\n",
       "      <td>0.0</td>\n",
       "      <td>1.0</td>\n",
       "      <td>1.0</td>\n",
       "      <td>1.0</td>\n",
       "      <td>1.0</td>\n",
       "      <td>1.0</td>\n",
       "      <td>1.0</td>\n",
       "      <td>...</td>\n",
       "      <td>29674.0</td>\n",
       "      <td>29127.0</td>\n",
       "      <td>29962.0</td>\n",
       "      <td>29750.0</td>\n",
       "      <td>29835.0</td>\n",
       "      <td>30720.0</td>\n",
       "      <td>30725.0</td>\n",
       "      <td>29933.0</td>\n",
       "      <td>30082.0</td>\n",
       "      <td>CLICHY-SOUS-BOIS</td>\n",
       "    </tr>\n",
       "    <tr>\n",
       "      <th>93046</th>\n",
       "      <td>0.0</td>\n",
       "      <td>0.0</td>\n",
       "      <td>0.0</td>\n",
       "      <td>0.0</td>\n",
       "      <td>2.0</td>\n",
       "      <td>2.0</td>\n",
       "      <td>2.0</td>\n",
       "      <td>2.0</td>\n",
       "      <td>2.0</td>\n",
       "      <td>2.0</td>\n",
       "      <td>...</td>\n",
       "      <td>41893.0</td>\n",
       "      <td>41808.0</td>\n",
       "      <td>41206.0</td>\n",
       "      <td>41808.0</td>\n",
       "      <td>42036.0</td>\n",
       "      <td>42699.0</td>\n",
       "      <td>43099.0</td>\n",
       "      <td>43798.0</td>\n",
       "      <td>44415.0</td>\n",
       "      <td>LIVRY-GARGAN</td>\n",
       "    </tr>\n",
       "  </tbody>\n",
       "</table>\n",
       "<p>5 rows × 419 columns</p>\n",
       "</div>"
      ],
      "text/plain": [
       "       NbLycees_2008  NbLycees_2009  NbLycees_2010  NbLycees_2011  \\\n",
       "75114            6.0            6.0            6.0            0.0   \n",
       "75118            4.0            4.0            4.0            0.0   \n",
       "78621            0.0            0.0            0.0            0.0   \n",
       "93014            0.0            0.0            0.0            0.0   \n",
       "93046            0.0            0.0            0.0            0.0   \n",
       "\n",
       "       NbLycees_2012  NbLycees_2013  NbLycees_2014  NbLycees_2015  \\\n",
       "75114            5.0            5.0            5.0            5.0   \n",
       "75118            4.0            4.0            4.0            4.0   \n",
       "78621            1.0            1.0            1.0            1.0   \n",
       "93014            1.0            1.0            1.0            1.0   \n",
       "93046            2.0            2.0            2.0            2.0   \n",
       "\n",
       "       NbLycees_2016  NbLycees_2017            ...               Pop2007  \\\n",
       "75114            5.0            5.0            ...              134382.0   \n",
       "75118            4.0            4.0            ...              191523.0   \n",
       "78621            1.0            1.0            ...               29327.0   \n",
       "93014            1.0            1.0            ...               29674.0   \n",
       "93046            2.0            2.0            ...               41893.0   \n",
       "\n",
       "        Pop2008   Pop2009   Pop2010   Pop2011   Pop2012   Pop2013   Pop2014  \\\n",
       "75114  136464.0  137189.0  138299.0  140317.0  141102.0  140799.0  141230.0   \n",
       "75118  196000.0  200631.0  202685.0  203127.0  201374.0  199519.0  199135.0   \n",
       "78621   28541.0   28638.0   29380.0   29563.0   29774.0   30979.0   31854.0   \n",
       "93014   29127.0   29962.0   29750.0   29835.0   30720.0   30725.0   29933.0   \n",
       "93046   41808.0   41206.0   41808.0   42036.0   42699.0   43099.0   43798.0   \n",
       "\n",
       "        Pop2015                        nom  \n",
       "75114  139992.0  PARIS 14E  ARRONDISSEMENT  \n",
       "75118  197580.0  PARIS 18E  ARRONDISSEMENT  \n",
       "78621   32346.0                    TRAPPES  \n",
       "93014   30082.0           CLICHY-SOUS-BOIS  \n",
       "93046   44415.0               LIVRY-GARGAN  \n",
       "\n",
       "[5 rows x 419 columns]"
      ]
     },
     "execution_count": 12,
     "metadata": {},
     "output_type": "execute_result"
    }
   ],
   "source": [
    "# We drop NAs for the analysis of parties\n",
    "df_wp = copy.deepcopy(df)\n",
    "print('Before drop NA partis :',  df_wp.shape)\n",
    "df_wp = df_wp[df_wp['partis.2001'] != 'NA']\n",
    "df_wp = df_wp[df_wp[\"partis.2008\"] != 'NA']\n",
    "df_wp = df_wp[df_wp[\"partis.2014\"] != 'NA']\n",
    "print('After drop NA partis :',  df_wp.shape)\n",
    "\n",
    "# Encode categorical features\n",
    "encoder = {\"partis.2001\" : {\"FN\" : 8,\n",
    "                            \"UMP-LR\" : 5,\n",
    "                            \"DVD\" : 3,\n",
    "                            \"UDI\" : 1,\n",
    "                            \"SE\" : 0,\n",
    "                            \"MoDem\" : 0,\n",
    "                            \"PRG\" : -1,\n",
    "                            \"EELV\" : -1,\n",
    "                            \"DVG\" : -3,\n",
    "                            \"PS\" : -5,\n",
    "                            \"FG\" : -7,\n",
    "                            \"PCF\" : -8},\n",
    "            \"partis.2008\" : {\"FN\" : 8,\n",
    "                            \"UMP-LR\" : 5,\n",
    "                            \"DVD\" : 3,\n",
    "                            \"UDI\" : 1,\n",
    "                            \"SE\" : 0,\n",
    "                            \"MoDem\" : 0,\n",
    "                            \"PRG\" : -1,\n",
    "                            \"EELV\" : -1,\n",
    "                            \"DVG\" : -3,\n",
    "                            \"PS\" : -5,\n",
    "                            \"FG\" : -7,\n",
    "                            \"PCF\" : -8},\n",
    "           \"partis.2014\" : {\"FN\" : 8,\n",
    "                            \"UMP-LR\" : 5,\n",
    "                            \"DVD\" : 3,\n",
    "                            \"UDI\" : 1,\n",
    "                            \"SE\" : 0,\n",
    "                            \"MoDem\" : 0,\n",
    "                            \"PRG\" : -1,\n",
    "                            \"EELV\" : -1,\n",
    "                            \"DVG\" : -3,\n",
    "                            \"PS\" : -5,\n",
    "                            \"FG\" : -7,\n",
    "                            \"PCF\" : -8}\n",
    "          }\n",
    "\n",
    "df_wp.replace(encoder, inplace=True)\n",
    "df.replace(encoder, inplace=True)\n",
    "\n",
    "df_wp.head()"
   ]
  },
  {
   "cell_type": "code",
   "execution_count": 13,
   "metadata": {
    "collapsed": false
   },
   "outputs": [
    {
     "name": "stdout",
     "output_type": "stream",
     "text": [
      "Before droping small cities : (511, 419)\n",
      "After droping small cities : (508, 419)\n"
     ]
    }
   ],
   "source": [
    "# Select the most imprtant cities\n",
    "print('Before droping small cities :',  df_wp.shape)\n",
    "df_wp = df_wp[df_wp['Pop2015'] > 50]\n",
    "print('After droping small cities :',  df_wp.shape)\n",
    "\n",
    "# get rid of NaNs\n",
    "#df = df.dropna(axis=0, how='any')"
   ]
  },
  {
   "cell_type": "code",
   "execution_count": 14,
   "metadata": {
    "collapsed": false,
    "scrolled": true
   },
   "outputs": [
    {
     "data": {
      "text/html": [
       "<div>\n",
       "<style>\n",
       "    .dataframe thead tr:only-child th {\n",
       "        text-align: right;\n",
       "    }\n",
       "\n",
       "    .dataframe thead th {\n",
       "        text-align: left;\n",
       "    }\n",
       "\n",
       "    .dataframe tbody tr th {\n",
       "        vertical-align: top;\n",
       "    }\n",
       "</style>\n",
       "<table border=\"1\" class=\"dataframe\">\n",
       "  <thead>\n",
       "    <tr style=\"text-align: right;\">\n",
       "      <th></th>\n",
       "      <th>NbLycees_2008</th>\n",
       "      <th>NbLycees_2009</th>\n",
       "      <th>NbLycees_2010</th>\n",
       "      <th>NbLycees_2011</th>\n",
       "      <th>NbLycees_2012</th>\n",
       "      <th>NbLycees_2013</th>\n",
       "      <th>NbLycees_2014</th>\n",
       "      <th>NbLycees_2015</th>\n",
       "      <th>NbLycees_2016</th>\n",
       "      <th>NbLycees_2017</th>\n",
       "      <th>...</th>\n",
       "      <th>Pop2007</th>\n",
       "      <th>Pop2008</th>\n",
       "      <th>Pop2009</th>\n",
       "      <th>Pop2010</th>\n",
       "      <th>Pop2011</th>\n",
       "      <th>Pop2012</th>\n",
       "      <th>Pop2013</th>\n",
       "      <th>Pop2014</th>\n",
       "      <th>Pop2015</th>\n",
       "      <th>nom</th>\n",
       "    </tr>\n",
       "  </thead>\n",
       "  <tbody>\n",
       "    <tr>\n",
       "      <th>75114</th>\n",
       "      <td>6.0</td>\n",
       "      <td>6.0</td>\n",
       "      <td>6.0</td>\n",
       "      <td>0.0</td>\n",
       "      <td>5.0</td>\n",
       "      <td>5.0</td>\n",
       "      <td>5.0</td>\n",
       "      <td>5.0</td>\n",
       "      <td>5.0</td>\n",
       "      <td>5.0</td>\n",
       "      <td>...</td>\n",
       "      <td>134382.0</td>\n",
       "      <td>136464.0</td>\n",
       "      <td>137189.0</td>\n",
       "      <td>138299.0</td>\n",
       "      <td>140317.0</td>\n",
       "      <td>141102.0</td>\n",
       "      <td>140799.0</td>\n",
       "      <td>141230.0</td>\n",
       "      <td>139992.0</td>\n",
       "      <td>PARIS 14E  ARRONDISSEMENT</td>\n",
       "    </tr>\n",
       "    <tr>\n",
       "      <th>75118</th>\n",
       "      <td>4.0</td>\n",
       "      <td>4.0</td>\n",
       "      <td>4.0</td>\n",
       "      <td>0.0</td>\n",
       "      <td>4.0</td>\n",
       "      <td>4.0</td>\n",
       "      <td>4.0</td>\n",
       "      <td>4.0</td>\n",
       "      <td>4.0</td>\n",
       "      <td>4.0</td>\n",
       "      <td>...</td>\n",
       "      <td>191523.0</td>\n",
       "      <td>196000.0</td>\n",
       "      <td>200631.0</td>\n",
       "      <td>202685.0</td>\n",
       "      <td>203127.0</td>\n",
       "      <td>201374.0</td>\n",
       "      <td>199519.0</td>\n",
       "      <td>199135.0</td>\n",
       "      <td>197580.0</td>\n",
       "      <td>PARIS 18E  ARRONDISSEMENT</td>\n",
       "    </tr>\n",
       "    <tr>\n",
       "      <th>78621</th>\n",
       "      <td>0.0</td>\n",
       "      <td>0.0</td>\n",
       "      <td>0.0</td>\n",
       "      <td>0.0</td>\n",
       "      <td>1.0</td>\n",
       "      <td>1.0</td>\n",
       "      <td>1.0</td>\n",
       "      <td>1.0</td>\n",
       "      <td>1.0</td>\n",
       "      <td>1.0</td>\n",
       "      <td>...</td>\n",
       "      <td>29327.0</td>\n",
       "      <td>28541.0</td>\n",
       "      <td>28638.0</td>\n",
       "      <td>29380.0</td>\n",
       "      <td>29563.0</td>\n",
       "      <td>29774.0</td>\n",
       "      <td>30979.0</td>\n",
       "      <td>31854.0</td>\n",
       "      <td>32346.0</td>\n",
       "      <td>TRAPPES</td>\n",
       "    </tr>\n",
       "    <tr>\n",
       "      <th>93014</th>\n",
       "      <td>0.0</td>\n",
       "      <td>0.0</td>\n",
       "      <td>0.0</td>\n",
       "      <td>0.0</td>\n",
       "      <td>1.0</td>\n",
       "      <td>1.0</td>\n",
       "      <td>1.0</td>\n",
       "      <td>1.0</td>\n",
       "      <td>1.0</td>\n",
       "      <td>1.0</td>\n",
       "      <td>...</td>\n",
       "      <td>29674.0</td>\n",
       "      <td>29127.0</td>\n",
       "      <td>29962.0</td>\n",
       "      <td>29750.0</td>\n",
       "      <td>29835.0</td>\n",
       "      <td>30720.0</td>\n",
       "      <td>30725.0</td>\n",
       "      <td>29933.0</td>\n",
       "      <td>30082.0</td>\n",
       "      <td>CLICHY-SOUS-BOIS</td>\n",
       "    </tr>\n",
       "    <tr>\n",
       "      <th>93046</th>\n",
       "      <td>0.0</td>\n",
       "      <td>0.0</td>\n",
       "      <td>0.0</td>\n",
       "      <td>0.0</td>\n",
       "      <td>2.0</td>\n",
       "      <td>2.0</td>\n",
       "      <td>2.0</td>\n",
       "      <td>2.0</td>\n",
       "      <td>2.0</td>\n",
       "      <td>2.0</td>\n",
       "      <td>...</td>\n",
       "      <td>41893.0</td>\n",
       "      <td>41808.0</td>\n",
       "      <td>41206.0</td>\n",
       "      <td>41808.0</td>\n",
       "      <td>42036.0</td>\n",
       "      <td>42699.0</td>\n",
       "      <td>43099.0</td>\n",
       "      <td>43798.0</td>\n",
       "      <td>44415.0</td>\n",
       "      <td>LIVRY-GARGAN</td>\n",
       "    </tr>\n",
       "    <tr>\n",
       "      <th>95585</th>\n",
       "      <td>0.0</td>\n",
       "      <td>0.0</td>\n",
       "      <td>0.0</td>\n",
       "      <td>0.0</td>\n",
       "      <td>4.0</td>\n",
       "      <td>5.0</td>\n",
       "      <td>5.0</td>\n",
       "      <td>5.0</td>\n",
       "      <td>5.0</td>\n",
       "      <td>5.0</td>\n",
       "      <td>...</td>\n",
       "      <td>59594.0</td>\n",
       "      <td>59221.0</td>\n",
       "      <td>59421.0</td>\n",
       "      <td>58614.0</td>\n",
       "      <td>58398.0</td>\n",
       "      <td>57499.0</td>\n",
       "      <td>57533.0</td>\n",
       "      <td>56828.0</td>\n",
       "      <td>57412.0</td>\n",
       "      <td>SARCELLES</td>\n",
       "    </tr>\n",
       "    <tr>\n",
       "      <th>75110</th>\n",
       "      <td>4.0</td>\n",
       "      <td>5.0</td>\n",
       "      <td>5.0</td>\n",
       "      <td>0.0</td>\n",
       "      <td>4.0</td>\n",
       "      <td>4.0</td>\n",
       "      <td>4.0</td>\n",
       "      <td>4.0</td>\n",
       "      <td>4.0</td>\n",
       "      <td>4.0</td>\n",
       "      <td>...</td>\n",
       "      <td>93373.0</td>\n",
       "      <td>94321.0</td>\n",
       "      <td>95911.0</td>\n",
       "      <td>95394.0</td>\n",
       "      <td>94027.0</td>\n",
       "      <td>94474.0</td>\n",
       "      <td>92494.0</td>\n",
       "      <td>92228.0</td>\n",
       "      <td>91770.0</td>\n",
       "      <td>PARIS 10E  ARRONDISSEMENT</td>\n",
       "    </tr>\n",
       "    <tr>\n",
       "      <th>92012</th>\n",
       "      <td>0.0</td>\n",
       "      <td>0.0</td>\n",
       "      <td>0.0</td>\n",
       "      <td>0.0</td>\n",
       "      <td>3.0</td>\n",
       "      <td>3.0</td>\n",
       "      <td>3.0</td>\n",
       "      <td>3.0</td>\n",
       "      <td>3.0</td>\n",
       "      <td>3.0</td>\n",
       "      <td>...</td>\n",
       "      <td>111045.0</td>\n",
       "      <td>112233.0</td>\n",
       "      <td>113085.0</td>\n",
       "      <td>114205.0</td>\n",
       "      <td>116220.0</td>\n",
       "      <td>117126.0</td>\n",
       "      <td>116794.0</td>\n",
       "      <td>116927.0</td>\n",
       "      <td>117931.0</td>\n",
       "      <td>BOULOGNE-BILLANCOURT</td>\n",
       "    </tr>\n",
       "    <tr>\n",
       "      <th>93055</th>\n",
       "      <td>0.0</td>\n",
       "      <td>0.0</td>\n",
       "      <td>0.0</td>\n",
       "      <td>0.0</td>\n",
       "      <td>2.0</td>\n",
       "      <td>2.0</td>\n",
       "      <td>2.0</td>\n",
       "      <td>1.0</td>\n",
       "      <td>1.0</td>\n",
       "      <td>2.0</td>\n",
       "      <td>...</td>\n",
       "      <td>53315.0</td>\n",
       "      <td>52698.0</td>\n",
       "      <td>52161.0</td>\n",
       "      <td>54136.0</td>\n",
       "      <td>53797.0</td>\n",
       "      <td>53060.0</td>\n",
       "      <td>53471.0</td>\n",
       "      <td>54852.0</td>\n",
       "      <td>55180.0</td>\n",
       "      <td>PANTIN</td>\n",
       "    </tr>\n",
       "    <tr>\n",
       "      <th>93062</th>\n",
       "      <td>0.0</td>\n",
       "      <td>0.0</td>\n",
       "      <td>0.0</td>\n",
       "      <td>0.0</td>\n",
       "      <td>4.0</td>\n",
       "      <td>4.0</td>\n",
       "      <td>4.0</td>\n",
       "      <td>3.0</td>\n",
       "      <td>4.0</td>\n",
       "      <td>4.0</td>\n",
       "      <td>...</td>\n",
       "      <td>13981.0</td>\n",
       "      <td>13622.0</td>\n",
       "      <td>13779.0</td>\n",
       "      <td>13828.0</td>\n",
       "      <td>13928.0</td>\n",
       "      <td>13993.0</td>\n",
       "      <td>14261.0</td>\n",
       "      <td>14400.0</td>\n",
       "      <td>14411.0</td>\n",
       "      <td>LEÂŒÃ¦RAINCY</td>\n",
       "    </tr>\n",
       "  </tbody>\n",
       "</table>\n",
       "<p>10 rows × 419 columns</p>\n",
       "</div>"
      ],
      "text/plain": [
       "       NbLycees_2008  NbLycees_2009  NbLycees_2010  NbLycees_2011  \\\n",
       "75114            6.0            6.0            6.0            0.0   \n",
       "75118            4.0            4.0            4.0            0.0   \n",
       "78621            0.0            0.0            0.0            0.0   \n",
       "93014            0.0            0.0            0.0            0.0   \n",
       "93046            0.0            0.0            0.0            0.0   \n",
       "95585            0.0            0.0            0.0            0.0   \n",
       "75110            4.0            5.0            5.0            0.0   \n",
       "92012            0.0            0.0            0.0            0.0   \n",
       "93055            0.0            0.0            0.0            0.0   \n",
       "93062            0.0            0.0            0.0            0.0   \n",
       "\n",
       "       NbLycees_2012  NbLycees_2013  NbLycees_2014  NbLycees_2015  \\\n",
       "75114            5.0            5.0            5.0            5.0   \n",
       "75118            4.0            4.0            4.0            4.0   \n",
       "78621            1.0            1.0            1.0            1.0   \n",
       "93014            1.0            1.0            1.0            1.0   \n",
       "93046            2.0            2.0            2.0            2.0   \n",
       "95585            4.0            5.0            5.0            5.0   \n",
       "75110            4.0            4.0            4.0            4.0   \n",
       "92012            3.0            3.0            3.0            3.0   \n",
       "93055            2.0            2.0            2.0            1.0   \n",
       "93062            4.0            4.0            4.0            3.0   \n",
       "\n",
       "       NbLycees_2016  NbLycees_2017            ...               Pop2007  \\\n",
       "75114            5.0            5.0            ...              134382.0   \n",
       "75118            4.0            4.0            ...              191523.0   \n",
       "78621            1.0            1.0            ...               29327.0   \n",
       "93014            1.0            1.0            ...               29674.0   \n",
       "93046            2.0            2.0            ...               41893.0   \n",
       "95585            5.0            5.0            ...               59594.0   \n",
       "75110            4.0            4.0            ...               93373.0   \n",
       "92012            3.0            3.0            ...              111045.0   \n",
       "93055            1.0            2.0            ...               53315.0   \n",
       "93062            4.0            4.0            ...               13981.0   \n",
       "\n",
       "        Pop2008   Pop2009   Pop2010   Pop2011   Pop2012   Pop2013   Pop2014  \\\n",
       "75114  136464.0  137189.0  138299.0  140317.0  141102.0  140799.0  141230.0   \n",
       "75118  196000.0  200631.0  202685.0  203127.0  201374.0  199519.0  199135.0   \n",
       "78621   28541.0   28638.0   29380.0   29563.0   29774.0   30979.0   31854.0   \n",
       "93014   29127.0   29962.0   29750.0   29835.0   30720.0   30725.0   29933.0   \n",
       "93046   41808.0   41206.0   41808.0   42036.0   42699.0   43099.0   43798.0   \n",
       "95585   59221.0   59421.0   58614.0   58398.0   57499.0   57533.0   56828.0   \n",
       "75110   94321.0   95911.0   95394.0   94027.0   94474.0   92494.0   92228.0   \n",
       "92012  112233.0  113085.0  114205.0  116220.0  117126.0  116794.0  116927.0   \n",
       "93055   52698.0   52161.0   54136.0   53797.0   53060.0   53471.0   54852.0   \n",
       "93062   13622.0   13779.0   13828.0   13928.0   13993.0   14261.0   14400.0   \n",
       "\n",
       "        Pop2015                        nom  \n",
       "75114  139992.0  PARIS 14E  ARRONDISSEMENT  \n",
       "75118  197580.0  PARIS 18E  ARRONDISSEMENT  \n",
       "78621   32346.0                    TRAPPES  \n",
       "93014   30082.0           CLICHY-SOUS-BOIS  \n",
       "93046   44415.0               LIVRY-GARGAN  \n",
       "95585   57412.0                  SARCELLES  \n",
       "75110   91770.0  PARIS 10E  ARRONDISSEMENT  \n",
       "92012  117931.0       BOULOGNE-BILLANCOURT  \n",
       "93055   55180.0                     PANTIN  \n",
       "93062   14411.0               LEÂŒÃ¦RAINCY  \n",
       "\n",
       "[10 rows x 419 columns]"
      ]
     },
     "execution_count": 14,
     "metadata": {},
     "output_type": "execute_result"
    }
   ],
   "source": [
    "df_wp.head(10)"
   ]
  },
  {
   "cell_type": "code",
   "execution_count": 15,
   "metadata": {
    "collapsed": false
   },
   "outputs": [
    {
     "name": "stdout",
     "output_type": "stream",
     "text": [
      "<class 'pandas.core.frame.DataFrame'>\n",
      "Index: 508 entries, 75114 to 75102\n",
      "Columns: 419 entries, NbLycees_2008 to nom\n",
      "dtypes: float64(418), object(1)\n",
      "memory usage: 1.6+ MB\n"
     ]
    }
   ],
   "source": [
    "df_wp.info()"
   ]
  },
  {
   "cell_type": "code",
   "execution_count": 17,
   "metadata": {
    "collapsed": false
   },
   "outputs": [
    {
     "name": "stdout",
     "output_type": "stream",
     "text": [
      "NbLycees_2008         float64\n",
      "NbLycees_2009         float64\n",
      "NbLycees_2010         float64\n",
      "NbLycees_2011         float64\n",
      "NbLycees_2012         float64\n",
      "NbLycees_2013         float64\n",
      "NbLycees_2014         float64\n",
      "NbLycees_2015         float64\n",
      "NbLycees_2016         float64\n",
      "NbLycees_2017         float64\n",
      "PrivÃ©_2008           float64\n",
      "PrivÃ©_2009           float64\n",
      "PrivÃ©_2010           float64\n",
      "PrivÃ©_2011           float64\n",
      "PrivÃ©_2012           float64\n",
      "PrivÃ©_2013           float64\n",
      "PrivÃ©_2014           float64\n",
      "PrivÃ©_2015           float64\n",
      "PrivÃ©_2016           float64\n",
      "PrivÃ©_2017           float64\n",
      "Public_2008           float64\n",
      "Public_2009           float64\n",
      "Public_2010           float64\n",
      "Public_2011           float64\n",
      "Public_2012           float64\n",
      "Public_2013           float64\n",
      "Public_2014           float64\n",
      "Public_2015           float64\n",
      "Public_2016           float64\n",
      "Public_2017           float64\n",
      "                       ...   \n",
      "recettes_2005         float64\n",
      "recettes_2006         float64\n",
      "recettes_2007         float64\n",
      "recettes_2008         float64\n",
      "recettes_2009         float64\n",
      "recettes_2010         float64\n",
      "recettes_2011         float64\n",
      "recettes_2012         float64\n",
      "recettes_2013         float64\n",
      "recettes_2014         float64\n",
      "recettes_2015         float64\n",
      "chomage               float64\n",
      "housing               float64\n",
      "main_res              float64\n",
      "portion_hlm_tenant    float64\n",
      "partis.2001           float64\n",
      "partis.2008           float64\n",
      "partis.2014           float64\n",
      "Pop1999               float64\n",
      "Pop2006               float64\n",
      "Pop2007               float64\n",
      "Pop2008               float64\n",
      "Pop2009               float64\n",
      "Pop2010               float64\n",
      "Pop2011               float64\n",
      "Pop2012               float64\n",
      "Pop2013               float64\n",
      "Pop2014               float64\n",
      "Pop2015               float64\n",
      "nom                    object\n",
      "Length: 419, dtype: object\n",
      "       NbLycees_2008  NbLycees_2009  NbLycees_2010  NbLycees_2011  \\\n",
      "count     231.000000     231.000000     231.000000     231.000000   \n",
      "mean        0.532468       0.545455       0.558442       0.554113   \n",
      "std         2.016784       2.054976       2.079884       8.421782   \n",
      "min         0.000000       0.000000       0.000000       0.000000   \n",
      "25%         0.000000       0.000000       0.000000       0.000000   \n",
      "50%         0.000000       0.000000       0.000000       0.000000   \n",
      "75%         0.000000       0.000000       0.000000       0.000000   \n",
      "max        15.000000      15.000000      14.000000     128.000000   \n",
      "\n",
      "       NbLycees_2012  NbLycees_2013  NbLycees_2014  NbLycees_2015  \\\n",
      "count     231.000000     231.000000     231.000000     231.000000   \n",
      "mean        1.982684       1.952381       1.982684       1.974026   \n",
      "std         1.815310       1.799126       1.834371       1.829521   \n",
      "min         0.000000       0.000000       0.000000       0.000000   \n",
      "25%         1.000000       1.000000       1.000000       1.000000   \n",
      "50%         1.000000       1.000000       1.000000       1.000000   \n",
      "75%         2.000000       2.000000       2.000000       2.000000   \n",
      "max        13.000000      13.000000      13.000000      13.000000   \n",
      "\n",
      "       NbLycees_2016  NbLycees_2017      ...            Pop2006       Pop2007  \\\n",
      "count     231.000000     231.000000      ...       1.301000e+03  1.301000e+03   \n",
      "mean        1.991342       1.982684      ...       1.054094e+04  1.060100e+04   \n",
      "std         1.850949       3.902023      ...       6.371271e+04  6.405147e+04   \n",
      "min         0.000000       0.000000      ...       3.000000e+01  3.000000e+01   \n",
      "25%         1.000000       1.000000      ...       5.200000e+02  5.270000e+02   \n",
      "50%         1.000000       1.000000      ...       1.292000e+03  1.302000e+03   \n",
      "75%         2.000000       2.000000      ...       6.610000e+03  6.609000e+03   \n",
      "max        13.000000      55.000000      ...       2.181371e+06  2.193030e+06   \n",
      "\n",
      "            Pop2008       Pop2009       Pop2010       Pop2011       Pop2012  \\\n",
      "count  1.301000e+03  1.301000e+03  1.301000e+03  1.301000e+03  1.301000e+03   \n",
      "mean   1.066146e+04  1.073201e+04  1.078406e+04  1.083999e+04  1.086789e+04   \n",
      "std    6.458079e+04  6.523552e+04  6.551921e+04  6.571156e+04  6.546836e+04   \n",
      "min    3.000000e+01  2.800000e+01  2.800000e+01  2.700000e+01  2.500000e+01   \n",
      "25%    5.350000e+02  5.400000e+02  5.450000e+02  5.470000e+02  5.490000e+02   \n",
      "50%    1.319000e+03  1.335000e+03  1.346000e+03  1.340000e+03  1.338000e+03   \n",
      "75%    6.684000e+03  6.743000e+03  6.792000e+03  6.811000e+03  6.846000e+03   \n",
      "max    2.211297e+06  2.234105e+06  2.243833e+06  2.249975e+06  2.240621e+06   \n",
      "\n",
      "            Pop2013       Pop2014       Pop2015  \n",
      "count  1.301000e+03  1.301000e+03  1.301000e+03  \n",
      "mean   1.090655e+04  1.095158e+04  1.098281e+04  \n",
      "std    6.518288e+04  6.495674e+04  6.459357e+04  \n",
      "min    0.000000e+00  0.000000e+00  0.000000e+00  \n",
      "25%    5.460000e+02  5.450000e+02  5.450000e+02  \n",
      "50%    1.354000e+03  1.375000e+03  1.366000e+03  \n",
      "75%    6.950000e+03  7.059000e+03  7.143000e+03  \n",
      "max    2.229621e+06  2.220445e+06  2.206488e+06  \n",
      "\n",
      "[8 rows x 415 columns]\n"
     ]
    }
   ],
   "source": [
    "print(df_wp.dtypes)\n",
    "print(df.describe())"
   ]
  },
  {
   "cell_type": "code",
   "execution_count": 19,
   "metadata": {
    "collapsed": false
   },
   "outputs": [
    {
     "name": "stdout",
     "output_type": "stream",
     "text": [
      "75114\n",
      "75118\n",
      "75110\n",
      "75120\n",
      "75116\n",
      "75113\n",
      "75117\n",
      "75115\n",
      "75112\n",
      "75119\n",
      "75111\n",
      "75103\n",
      "75104\n",
      "75105\n",
      "75106\n",
      "75107\n",
      "75108\n",
      "75109\n",
      "75056\n",
      "75101\n",
      "75102\n"
     ]
    }
   ],
   "source": [
    "for cities in df_wp.index :\n",
    "    if cities[:2] == '75' :\n",
    "        print(cities)"
   ]
  },
  {
   "cell_type": "code",
   "execution_count": 20,
   "metadata": {
    "collapsed": false
   },
   "outputs": [
    {
     "name": "stdout",
     "output_type": "stream",
     "text": [
      "(508, 419)\n",
      "NbLycees_2008         185\n",
      "NbLycees_2009         185\n",
      "NbLycees_2010         185\n",
      "NbLycees_2011         185\n",
      "NbLycees_2012         185\n",
      "NbLycees_2013         185\n",
      "NbLycees_2014         185\n",
      "NbLycees_2015         185\n",
      "NbLycees_2016         185\n",
      "NbLycees_2017         185\n",
      "PrivÃ©_2008           185\n",
      "PrivÃ©_2009           185\n",
      "PrivÃ©_2010           185\n",
      "PrivÃ©_2011           185\n",
      "PrivÃ©_2012           185\n",
      "PrivÃ©_2013           185\n",
      "PrivÃ©_2014           185\n",
      "PrivÃ©_2015           185\n",
      "PrivÃ©_2016           185\n",
      "PrivÃ©_2017           185\n",
      "Public_2008           185\n",
      "Public_2009           185\n",
      "Public_2010           185\n",
      "Public_2011           185\n",
      "Public_2012           185\n",
      "Public_2013           185\n",
      "Public_2014           185\n",
      "Public_2015           185\n",
      "Public_2016           185\n",
      "Public_2017           185\n",
      "                     ... \n",
      "recettes_2005         488\n",
      "recettes_2006         488\n",
      "recettes_2007         487\n",
      "recettes_2008         487\n",
      "recettes_2009         488\n",
      "recettes_2010         488\n",
      "recettes_2011         488\n",
      "recettes_2012         488\n",
      "recettes_2013         488\n",
      "recettes_2014         488\n",
      "recettes_2015         488\n",
      "chomage               487\n",
      "housing               488\n",
      "main_res              488\n",
      "portion_hlm_tenant    488\n",
      "partis.2001           485\n",
      "partis.2008           485\n",
      "partis.2014           485\n",
      "Pop1999               508\n",
      "Pop2006               508\n",
      "Pop2007               508\n",
      "Pop2008               508\n",
      "Pop2009               508\n",
      "Pop2010               508\n",
      "Pop2011               508\n",
      "Pop2012               508\n",
      "Pop2013               508\n",
      "Pop2014               508\n",
      "Pop2015               508\n",
      "nom                   508\n",
      "Length: 419, dtype: int64\n"
     ]
    }
   ],
   "source": [
    "print(df_wp.shape)\n",
    "print(df_wp.notnull().sum())"
   ]
  },
  {
   "cell_type": "markdown",
   "metadata": {},
   "source": [
    "# Data set for prediction"
   ]
  },
  {
   "cell_type": "code",
   "execution_count": 21,
   "metadata": {
    "collapsed": true
   },
   "outputs": [],
   "source": [
    "school_features = ['NbLycees_2008', 'NbLycees_2009', 'NbLycees_2010', 'NbLycees_2011', 'NbLycees_2012', 'NbLycees_2013', 'NbLycees_2014', 'NbLycees_2015', 'NbLycees_2016', 'NbLycees_2017', 'PrivÃ©_2008', 'PrivÃ©_2009', 'PrivÃ©_2010', 'PrivÃ©_2011', 'PrivÃ©_2012', 'PrivÃ©_2013', 'PrivÃ©_2014', 'PrivÃ©_2015', 'PrivÃ©_2016', 'PrivÃ©_2017', 'Public_2008', 'Public_2009', 'Public_2010', 'Public_2011', 'Public_2012', 'Public_2013', 'Public_2014', 'Public_2015', 'Public_2016', 'Public_2017', 'Resultat_2008_(50)', 'Resultat_2008_(50-70)', 'Resultat_2008_(70-80)', 'Resultat_2008_(80-90)', 'Resultat_2008_(90)', 'Resultat_2009_(50)', 'Resultat_2009_(50-70)', 'Resultat_2009_(70-80)', 'Resultat_2009_(80-90)', 'Resultat_2009_(90)', 'Resultat_2010_(50)', 'Resultat_2010_(50-70)', 'Resultat_2010_(70-80)', 'Resultat_2010_(80-90)', 'Resultat_2010_(90)', 'Resultat_2011_(50)', 'Resultat_2011_(50-70)', 'Resultat_2011_(70-80)', 'Resultat_2011_(80-90)', 'Resultat_2011_(90)', 'Resultat_2012_(50)', 'Resultat_2012_(50-70)', 'Resultat_2012_(70-80)', 'Resultat_2012_(80-90)', 'Resultat_2012_(90)', 'Resultat_2013_(50)', 'Resultat_2013_(50-70)', 'Resultat_2013_(70-80)', 'Resultat_2013_(80-90)', 'Resultat_2013_(90)', 'Resultat_2014_(50)', 'Resultat_2014_(50-70)', 'Resultat_2014_(70-80)', 'Resultat_2014_(80-90)', 'Resultat_2014_(90)', 'Resultat_2015_(50)', 'Resultat_2015_(50-70)', 'Resultat_2015_(70-80)', 'Resultat_2015_(80-90)', 'Resultat_2015_(90)', 'Resultat_2016_(50)', 'Resultat_2016_(50-70)', 'Resultat_2016_(70-80)', 'Resultat_2016_(80-90)', 'Resultat_2016_(90)', 'Resultat_2017_(50)', 'Resultat_2017_(50-70)', 'Resultat_2017_(70-80)', 'Resultat_2017_(80-90)', 'Resultat_2017_(90)']\n",
    "for row in df_wp.index :\n",
    "    for column in school_features :\n",
    "        if np.isnan(df_wp.loc[row, column]) :\n",
    "            df_wp.loc[row,column] = 0"
   ]
  },
  {
   "cell_type": "code",
   "execution_count": 61,
   "metadata": {
    "collapsed": false
   },
   "outputs": [
    {
     "data": {
      "text/plain": [
       "NbLycees_2008          0\n",
       "NbLycees_2009          0\n",
       "NbLycees_2010          0\n",
       "NbLycees_2011          0\n",
       "NbLycees_2012          0\n",
       "NbLycees_2013          0\n",
       "NbLycees_2014          0\n",
       "NbLycees_2015          0\n",
       "NbLycees_2016          0\n",
       "NbLycees_2017          0\n",
       "PrivÃ©_2008            0\n",
       "PrivÃ©_2009            0\n",
       "PrivÃ©_2010            0\n",
       "PrivÃ©_2011            0\n",
       "PrivÃ©_2012            0\n",
       "PrivÃ©_2013            0\n",
       "PrivÃ©_2014            0\n",
       "PrivÃ©_2015            0\n",
       "PrivÃ©_2016            0\n",
       "PrivÃ©_2017            0\n",
       "Public_2008            0\n",
       "Public_2009            0\n",
       "Public_2010            0\n",
       "Public_2011            0\n",
       "Public_2012            0\n",
       "Public_2013            0\n",
       "Public_2014            0\n",
       "Public_2015            0\n",
       "Public_2016            0\n",
       "Public_2017            0\n",
       "                      ..\n",
       "recettes_2004         20\n",
       "recettes_2005         20\n",
       "recettes_2006         20\n",
       "recettes_2007         21\n",
       "recettes_2008         21\n",
       "recettes_2009         20\n",
       "recettes_2010         20\n",
       "recettes_2011         20\n",
       "recettes_2012         20\n",
       "recettes_2013         20\n",
       "recettes_2014         20\n",
       "recettes_2015         20\n",
       "chomage               21\n",
       "housing               20\n",
       "main_res              20\n",
       "portion_hlm_tenant    20\n",
       "partis.2001           23\n",
       "partis.2008           23\n",
       "partis.2014           23\n",
       "Pop1999                0\n",
       "Pop2006                0\n",
       "Pop2007                0\n",
       "Pop2008                0\n",
       "Pop2009                0\n",
       "Pop2010                0\n",
       "Pop2011                0\n",
       "Pop2012                0\n",
       "Pop2013                0\n",
       "Pop2014                0\n",
       "Pop2015                0\n",
       "Length: 418, dtype: int64"
      ]
     },
     "execution_count": 61,
     "metadata": {},
     "output_type": "execute_result"
    }
   ],
   "source": [
    "df_wp.isnull().sum()"
   ]
  },
  {
   "cell_type": "code",
   "execution_count": 26,
   "metadata": {
    "collapsed": true
   },
   "outputs": [],
   "source": [
    "df_wp = df_wp.drop(['nom'], axis=1, errors='ignore')"
   ]
  },
  {
   "cell_type": "code",
   "execution_count": 36,
   "metadata": {
    "collapsed": false
   },
   "outputs": [
    {
     "data": {
      "text/plain": [
       "NbLycees_2008         float64\n",
       "NbLycees_2009         float64\n",
       "NbLycees_2010         float64\n",
       "NbLycees_2011         float64\n",
       "NbLycees_2012         float64\n",
       "NbLycees_2013         float64\n",
       "NbLycees_2014         float64\n",
       "NbLycees_2015         float64\n",
       "NbLycees_2016         float64\n",
       "NbLycees_2017         float64\n",
       "PrivÃ©_2008           float64\n",
       "PrivÃ©_2009           float64\n",
       "PrivÃ©_2010           float64\n",
       "PrivÃ©_2011           float64\n",
       "PrivÃ©_2012           float64\n",
       "PrivÃ©_2013           float64\n",
       "PrivÃ©_2014           float64\n",
       "PrivÃ©_2015           float64\n",
       "PrivÃ©_2016           float64\n",
       "PrivÃ©_2017           float64\n",
       "Public_2008           float64\n",
       "Public_2009           float64\n",
       "Public_2010           float64\n",
       "Public_2011           float64\n",
       "Public_2012           float64\n",
       "Public_2013           float64\n",
       "Public_2014           float64\n",
       "Public_2015           float64\n",
       "Public_2016           float64\n",
       "Public_2017           float64\n",
       "                       ...   \n",
       "recettes_2004         float64\n",
       "recettes_2005         float64\n",
       "recettes_2006         float64\n",
       "recettes_2007         float64\n",
       "recettes_2008         float64\n",
       "recettes_2009         float64\n",
       "recettes_2010         float64\n",
       "recettes_2011         float64\n",
       "recettes_2012         float64\n",
       "recettes_2013         float64\n",
       "recettes_2014         float64\n",
       "recettes_2015         float64\n",
       "chomage               float64\n",
       "housing               float64\n",
       "main_res              float64\n",
       "portion_hlm_tenant    float64\n",
       "partis.2001           float64\n",
       "partis.2008           float64\n",
       "partis.2014           float64\n",
       "Pop1999               float64\n",
       "Pop2006               float64\n",
       "Pop2007               float64\n",
       "Pop2008               float64\n",
       "Pop2009               float64\n",
       "Pop2010               float64\n",
       "Pop2011               float64\n",
       "Pop2012               float64\n",
       "Pop2013               float64\n",
       "Pop2014               float64\n",
       "Pop2015               float64\n",
       "Length: 418, dtype: object"
      ]
     },
     "execution_count": 36,
     "metadata": {},
     "output_type": "execute_result"
    }
   ],
   "source": [
    "df_wp.dtypes"
   ]
  },
  {
   "cell_type": "code",
   "execution_count": 91,
   "metadata": {
    "collapsed": false
   },
   "outputs": [
    {
     "data": {
      "text/plain": [
       "Index(['91027', '95509', '94075'], dtype='object')"
      ]
     },
     "execution_count": 91,
     "metadata": {},
     "output_type": "execute_result"
    }
   ],
   "source": [
    "train_set.index[np.where(train_set['partis.2001'].isnull())]"
   ]
  },
  {
   "cell_type": "code",
   "execution_count": 95,
   "metadata": {
    "collapsed": false
   },
   "outputs": [
    {
     "data": {
      "text/plain": [
       "Index(['91047'], dtype='object')"
      ]
     },
     "execution_count": 95,
     "metadata": {},
     "output_type": "execute_result"
    }
   ],
   "source": [
    "train_set.index[np.where(train_set['recettes_2007'].isnull())]"
   ]
  },
  {
   "cell_type": "code",
   "execution_count": 96,
   "metadata": {
    "collapsed": false
   },
   "outputs": [
    {
     "data": {
      "text/plain": [
       "Index(['91215'], dtype='object')"
      ]
     },
     "execution_count": 96,
     "metadata": {},
     "output_type": "execute_result"
    }
   ],
   "source": [
    "train_set.index[np.where(train_set['recettes_2008'].isnull())]"
   ]
  },
  {
   "cell_type": "code",
   "execution_count": 106,
   "metadata": {
    "collapsed": false
   },
   "outputs": [],
   "source": [
    "test_set_chomage =  df_wp[df_wp['chomage'].isnull()]\n",
    "test_set_partis = df_wp[df_wp['partis.2001'].isnull()]\n",
    "\n",
    "\n",
    "train_set = df_wp[df_wp['chomage'].notnull()]\n",
    "train_set = train_set[train_set['partis.2001'].notnull()]\n",
    "train_set = train_set[train_set['recettes_2007'].notnull()]\n",
    "train_set = train_set[train_set['recettes_2008'].notnull()]"
   ]
  },
  {
   "cell_type": "code",
   "execution_count": 101,
   "metadata": {
    "collapsed": false
   },
   "outputs": [
    {
     "data": {
      "text/plain": [
       "NbLycees_2008          0\n",
       "NbLycees_2009          0\n",
       "NbLycees_2010          0\n",
       "NbLycees_2011          0\n",
       "NbLycees_2012          0\n",
       "NbLycees_2013          0\n",
       "NbLycees_2014          0\n",
       "NbLycees_2015          0\n",
       "NbLycees_2016          0\n",
       "NbLycees_2017          0\n",
       "PrivÃ©_2008            0\n",
       "PrivÃ©_2009            0\n",
       "PrivÃ©_2010            0\n",
       "PrivÃ©_2011            0\n",
       "PrivÃ©_2012            0\n",
       "PrivÃ©_2013            0\n",
       "PrivÃ©_2014            0\n",
       "PrivÃ©_2015            0\n",
       "PrivÃ©_2016            0\n",
       "PrivÃ©_2017            0\n",
       "Public_2008            0\n",
       "Public_2009            0\n",
       "Public_2010            0\n",
       "Public_2011            0\n",
       "Public_2012            0\n",
       "Public_2013            0\n",
       "Public_2014            0\n",
       "Public_2015            0\n",
       "Public_2016            0\n",
       "Public_2017            0\n",
       "                      ..\n",
       "recettes_2004         20\n",
       "recettes_2005         20\n",
       "recettes_2006         20\n",
       "recettes_2007         20\n",
       "recettes_2008         20\n",
       "recettes_2009         20\n",
       "recettes_2010         20\n",
       "recettes_2011         20\n",
       "recettes_2012         20\n",
       "recettes_2013         20\n",
       "recettes_2014         20\n",
       "recettes_2015         20\n",
       "chomage               21\n",
       "housing               20\n",
       "main_res              20\n",
       "portion_hlm_tenant    20\n",
       "partis.2001           20\n",
       "partis.2008           20\n",
       "partis.2014           20\n",
       "Pop1999                0\n",
       "Pop2006                0\n",
       "Pop2007                0\n",
       "Pop2008                0\n",
       "Pop2009                0\n",
       "Pop2010                0\n",
       "Pop2011                0\n",
       "Pop2012                0\n",
       "Pop2013                0\n",
       "Pop2014                0\n",
       "Pop2015                0\n",
       "Length: 418, dtype: int64"
      ]
     },
     "execution_count": 101,
     "metadata": {},
     "output_type": "execute_result"
    }
   ],
   "source": [
    "test_set_chomage.isnull().sum()"
   ]
  },
  {
   "cell_type": "code",
   "execution_count": 107,
   "metadata": {
    "collapsed": false
   },
   "outputs": [
    {
     "data": {
      "text/plain": [
       "NbLycees_2008          0\n",
       "NbLycees_2009          0\n",
       "NbLycees_2010          0\n",
       "NbLycees_2011          0\n",
       "NbLycees_2012          0\n",
       "NbLycees_2013          0\n",
       "NbLycees_2014          0\n",
       "NbLycees_2015          0\n",
       "NbLycees_2016          0\n",
       "NbLycees_2017          0\n",
       "PrivÃ©_2008            0\n",
       "PrivÃ©_2009            0\n",
       "PrivÃ©_2010            0\n",
       "PrivÃ©_2011            0\n",
       "PrivÃ©_2012            0\n",
       "PrivÃ©_2013            0\n",
       "PrivÃ©_2014            0\n",
       "PrivÃ©_2015            0\n",
       "PrivÃ©_2016            0\n",
       "PrivÃ©_2017            0\n",
       "Public_2008            0\n",
       "Public_2009            0\n",
       "Public_2010            0\n",
       "Public_2011            0\n",
       "Public_2012            0\n",
       "Public_2013            0\n",
       "Public_2014            0\n",
       "Public_2015            0\n",
       "Public_2016            0\n",
       "Public_2017            0\n",
       "                      ..\n",
       "recettes_2004         20\n",
       "recettes_2005         20\n",
       "recettes_2006         20\n",
       "recettes_2007         20\n",
       "recettes_2008         20\n",
       "recettes_2009         20\n",
       "recettes_2010         20\n",
       "recettes_2011         20\n",
       "recettes_2012         20\n",
       "recettes_2013         20\n",
       "recettes_2014         20\n",
       "recettes_2015         20\n",
       "chomage               20\n",
       "housing               20\n",
       "main_res              20\n",
       "portion_hlm_tenant    20\n",
       "partis.2001           23\n",
       "partis.2008           23\n",
       "partis.2014           23\n",
       "Pop1999                0\n",
       "Pop2006                0\n",
       "Pop2007                0\n",
       "Pop2008                0\n",
       "Pop2009                0\n",
       "Pop2010                0\n",
       "Pop2011                0\n",
       "Pop2012                0\n",
       "Pop2013                0\n",
       "Pop2014                0\n",
       "Pop2015                0\n",
       "Length: 418, dtype: int64"
      ]
     },
     "execution_count": 107,
     "metadata": {},
     "output_type": "execute_result"
    }
   ],
   "source": [
    "test_set_partis.isnull().sum()"
   ]
  },
  {
   "cell_type": "code",
   "execution_count": 108,
   "metadata": {
    "collapsed": true
   },
   "outputs": [],
   "source": [
    "wt_p = df[df['partis.2001'].isnull()]"
   ]
  },
  {
   "cell_type": "code",
   "execution_count": 111,
   "metadata": {
    "collapsed": false
   },
   "outputs": [
    {
     "data": {
      "text/plain": [
       "(array([2], dtype=int64),)"
      ]
     },
     "execution_count": 111,
     "metadata": {},
     "output_type": "execute_result"
    }
   ],
   "source": [
    "np.where(wt_p['Pop1999'].isnull())"
   ]
  },
  {
   "cell_type": "code",
   "execution_count": 116,
   "metadata": {
    "collapsed": false
   },
   "outputs": [
    {
     "data": {
      "text/plain": [
       "NbLycees_2008           1\n",
       "NbLycees_2009           1\n",
       "NbLycees_2010           1\n",
       "NbLycees_2011         128\n",
       "NbLycees_2012           0\n",
       "NbLycees_2013           0\n",
       "NbLycees_2014           0\n",
       "NbLycees_2015           0\n",
       "NbLycees_2016           0\n",
       "NbLycees_2017          55\n",
       "PrivÃ©_2008             0\n",
       "PrivÃ©_2009             0\n",
       "PrivÃ©_2010             0\n",
       "PrivÃ©_2011             0\n",
       "PrivÃ©_2012             0\n",
       "PrivÃ©_2013             0\n",
       "PrivÃ©_2014             0\n",
       "PrivÃ©_2015             0\n",
       "PrivÃ©_2016             0\n",
       "PrivÃ©_2017            22\n",
       "Public_2008             1\n",
       "Public_2009             1\n",
       "Public_2010             1\n",
       "Public_2011             0\n",
       "Public_2012             0\n",
       "Public_2013             0\n",
       "Public_2014             0\n",
       "Public_2015             0\n",
       "Public_2016             0\n",
       "Public_2017            33\n",
       "                     ... \n",
       "recettes_2005         NaN\n",
       "recettes_2006         NaN\n",
       "recettes_2007         NaN\n",
       "recettes_2008         NaN\n",
       "recettes_2009         NaN\n",
       "recettes_2010         NaN\n",
       "recettes_2011         NaN\n",
       "recettes_2012         NaN\n",
       "recettes_2013         NaN\n",
       "recettes_2014         NaN\n",
       "recettes_2015         NaN\n",
       "chomage               NaN\n",
       "housing               NaN\n",
       "main_res              NaN\n",
       "portion_hlm_tenant    NaN\n",
       "partis.2001           NaN\n",
       "partis.2008           NaN\n",
       "partis.2014           NaN\n",
       "Pop1999               NaN\n",
       "Pop2006               NaN\n",
       "Pop2007               NaN\n",
       "Pop2008               NaN\n",
       "Pop2009               NaN\n",
       "Pop2010               NaN\n",
       "Pop2011               NaN\n",
       "Pop2012               NaN\n",
       "Pop2013               NaN\n",
       "Pop2014               NaN\n",
       "Pop2015               NaN\n",
       "nom                   NaN\n",
       "Length: 419, dtype: object"
      ]
     },
     "execution_count": 116,
     "metadata": {},
     "output_type": "execute_result"
    }
   ],
   "source": [
    "wt_p.loc[None]"
   ]
  },
  {
   "cell_type": "markdown",
   "metadata": {},
   "source": [
    "## Testing prediction on our training set"
   ]
  },
  {
   "cell_type": "code",
   "execution_count": 127,
   "metadata": {
    "collapsed": false
   },
   "outputs": [],
   "source": [
    "# Select the feature to be predicted : partis\n",
    "Y = train_set['partis.2014']\n",
    "dropped_features = ['NbLycees_2008', 'NbLycees_2009', 'NbLycees_2010', 'NbLycees_2011',\n",
    "       'NbLycees_2012', 'NbLycees_2013', 'NbLycees_2014', 'NbLycees_2015',\n",
    "        'PrivÃ©_2008', 'PrivÃ©_2009',\n",
    "       'PrivÃ©_2010', 'PrivÃ©_2011', 'PrivÃ©_2012', 'PrivÃ©_2013',\n",
    "       'PrivÃ©_2014', 'PrivÃ©_2015',\n",
    "       'Public_2008', 'Public_2009', 'Public_2010', 'Public_2011',\n",
    "       'Public_2012', 'Public_2013', 'Public_2014', 'Public_2015',\n",
    "        'Resultat_2008_(50)',\n",
    "       'Resultat_2008_(50-70)', 'Resultat_2008_(70-80)',\n",
    "       'Resultat_2008_(80-90)', 'Resultat_2008_(90)', 'Resultat_2009_(50)',\n",
    "       'Resultat_2009_(50-70)', 'Resultat_2009_(70-80)',\n",
    "       'Resultat_2009_(80-90)', 'Resultat_2009_(90)', 'Resultat_2010_(50)',\n",
    "       'Resultat_2010_(50-70)', 'Resultat_2010_(70-80)',\n",
    "       'Resultat_2010_(80-90)', 'Resultat_2010_(90)', 'Resultat_2011_(50)',\n",
    "       'Resultat_2011_(50-70)', 'Resultat_2011_(70-80)',\n",
    "       'Resultat_2011_(80-90)', 'Resultat_2011_(90)', 'Resultat_2012_(50)',\n",
    "       'Resultat_2012_(50-70)', 'Resultat_2012_(70-80)',\n",
    "       'Resultat_2012_(80-90)', 'Resultat_2012_(90)', 'Resultat_2013_(50)',\n",
    "       'Resultat_2013_(50-70)', 'Resultat_2013_(70-80)',\n",
    "       'Resultat_2013_(80-90)', 'Resultat_2013_(90)', 'Resultat_2014_(50)',\n",
    "       'Resultat_2014_(50-70)', 'Resultat_2014_(70-80)',\n",
    "       'Resultat_2014_(80-90)', 'Resultat_2014_(90)', 'Resultat_2015_(50)',\n",
    "       'Resultat_2015_(50-70)', 'Resultat_2015_(70-80)',\n",
    "       'Resultat_2015_(80-90)', 'Resultat_2015_(90)', 'partis.2001', 'partis.2008', 'partis.2014']\n",
    "X = train_set.drop(dropped_features, axis=1)"
   ]
  },
  {
   "cell_type": "code",
   "execution_count": 128,
   "metadata": {
    "collapsed": true
   },
   "outputs": [],
   "source": [
    "from sklearn import preprocessing\n",
    "\n",
    "# Create scaler object\n",
    "sc = preprocessing.StandardScaler()\n",
    "        \n",
    "# Fit the scaler and transform training data\n",
    "X = sc.fit_transform(X)"
   ]
  },
  {
   "cell_type": "code",
   "execution_count": 129,
   "metadata": {
    "collapsed": false
   },
   "outputs": [],
   "source": [
    "from sklearn import model_selection\n",
    "skf = model_selection.KFold(n_splits=5)\n",
    "folds = [(tr,te) for (tr,te) in skf.split(X, Y)]"
   ]
  },
  {
   "cell_type": "code",
   "execution_count": 130,
   "metadata": {
    "collapsed": true
   },
   "outputs": [],
   "source": [
    "def cross_validate(design_matrix, labels, regressor, cv_folds):\n",
    "\n",
    "    pred = np.zeros(labels.shape)\n",
    "    \n",
    "    for tr, te in cv_folds:\n",
    "        # Restrict data to train/test folds\n",
    "        Xtr = design_matrix[tr, :]\n",
    "        ytr = labels[tr]\n",
    "        Xte = design_matrix[te, :]\n",
    "        yte = labels[te]\n",
    "        \n",
    "        # Fit classifier\n",
    "        regressor.fit(Xtr, ytr)\n",
    "\n",
    "        # Compute prediction\n",
    "        ypred = regressor.predict(Xte)\n",
    "        \n",
    "        # Update pred\n",
    "        pred[te] = ypred\n",
    "        \n",
    "    return pred"
   ]
  },
  {
   "cell_type": "code",
   "execution_count": 146,
   "metadata": {
    "collapsed": false
   },
   "outputs": [],
   "source": [
    "from sklearn import svm\n",
    "\n",
    "rgs_lSVC = svm.SVC(kernel='linear', C=1)\n",
    "ypred_lSVC = cross_validate(X, Y, rgs_lSVC, folds)"
   ]
  },
  {
   "cell_type": "code",
   "execution_count": 148,
   "metadata": {
    "collapsed": false
   },
   "outputs": [
    {
     "data": {
      "text/plain": [
       "array([-8., -8.,  5., -8.,  1., -8.,  1.,  1., -8., -8.,  5.,  1.,  0.,\n",
       "        5.,  5., -8., -8.,  5.,  5., -8., -8.,  5., -8.,  5.,  3.,  1.,\n",
       "        1.,  5.,  1., -8., -8.,  1., -8., -5.,  5.,  5., -8.,  1.,  5.,\n",
       "       -8.,  5., -8., -8., -8., -8.,  5.,  1., -8., -8.,  1., -8.,  5.,\n",
       "        5., -8., -8.,  1., -5., -5., -8.,  3., -5., -5.,  1., -3., -8.,\n",
       "        5., -8., -8., -8.,  1.,  5., -8., -8.,  1., -8.,  5., -5., -5.,\n",
       "       -8., -8., -8., -5., -5., -8.,  5., -8.,  1., -5.,  5.,  1., -8.,\n",
       "        0.,  5., -8.,  5.,  1., -3., -5.,  5., -8.,  5.,  3., -5., -8.,\n",
       "       -5.,  1.,  1.,  1., -5.,  5., -8., -8.,  5., -5., -5., -5., -5.,\n",
       "        5., -8.,  1., -5., -5., -5., -5.,  5., -5., -5., -5.,  1.,  1.,\n",
       "       -5., -5.,  5., -8.,  5., -5.,  1., -5.,  1., -5., -5.,  1., -8.,\n",
       "        3., -5., -5., -5.,  5., -5.,  5.,  5.,  1., -8., -8., -8., -5.,\n",
       "        1., -5.,  5., -5.,  5., -8.,  3., -5., -5.,  1., -5.,  5.,  3.,\n",
       "        1.,  5.,  3.,  3.,  3.,  3., -5.,  3., -5.,  5.,  3.,  5.,  3.,\n",
       "        3.,  3., -5.,  3.,  3.,  3.,  3.,  5.,  3.,  5.,  3.,  3.,  3.,\n",
       "        3.,  3.,  3.,  1.,  5.,  3.,  3., -5.,  5.,  5.,  5.,  3.,  5.,\n",
       "        3.,  3.,  3.,  3., -5.,  3.,  3.,  3.,  3.,  0.,  3.,  3.,  3.,\n",
       "        3.,  3.,  1.,  3.,  3.,  3.,  3.,  3.,  3.,  3.,  0., -5.,  5.,\n",
       "        3.,  3.,  3.,  3.,  1.,  3.,  3.,  3.,  3.,  3., -8.,  3.,  3.,\n",
       "        3.,  3.,  3.,  3.,  3.,  3.,  3.,  3.,  3.,  1.,  3.,  3.,  3.,\n",
       "        3.,  3.,  3., -3., -3.,  3.,  3.,  3., -5.,  3.,  3.,  3.,  3.,\n",
       "        3.,  3.,  5.,  3., -3.,  3.,  3.,  3., -5.,  3.,  5., -5., -8.,\n",
       "        3.,  3.,  3.,  3.,  3.,  3.,  3.,  3.,  5.,  3.,  3.,  3.,  3.,\n",
       "        1.,  3.,  3.,  3.,  3.,  1.,  3.,  5.,  3.,  5.,  0.,  3.,  5.,\n",
       "        3.,  3.,  3.,  3.,  3., -8.,  3.,  3.,  5.,  3.,  5.,  5.,  5.,\n",
       "       -5.,  3.,  3.,  3.,  3.,  5., -8.,  3., -5.,  3.,  3.,  3.,  5.,\n",
       "        3.,  3.,  3., -8.,  3.,  5.,  3.,  3.,  3.,  3., -5., -5.,  5.,\n",
       "        3.,  3.,  3., -5.,  3.,  3.,  0.,  3.,  1.,  3.,  5.,  3., -5.,\n",
       "        5.,  5.,  3.,  5., -8., -5., -5.,  1.,  5.,  5.,  5., -8., -8.,\n",
       "        5.,  3.,  5.,  3.,  3.,  3.,  5.,  3.,  5.,  1.,  3.,  3.,  3.,\n",
       "        3.,  3.,  3.,  3.,  3.,  3.,  3.,  3.,  3., -8.,  3., -5., -8.,\n",
       "        0.,  3.,  3., -5.,  3.,  3.,  3., -5.,  3.,  3.,  3., -8.,  5.,\n",
       "        1.,  3.,  3.,  5.,  5.,  5.,  3., -3.,  3.,  3.,  1.,  3.,  1.,\n",
       "        3.,  5.,  3.,  3.,  3.,  0.,  3.,  3.,  3.,  3.,  5.,  3., -5.,\n",
       "       -5.,  3.,  3.,  3.,  3., -5.,  3.,  3.,  3.,  3.,  3.,  3.,  3.,\n",
       "        3.,  3.,  3., -5.,  3.,  3.,  5.,  0.,  5.,  5.,  1.,  5.,  1.,\n",
       "        5.,  3.,  3.,  3.,  3.,  3.,  3.,  3., -5.,  3.,  3.,  5.,  1.,\n",
       "        5.])"
      ]
     },
     "execution_count": 148,
     "metadata": {},
     "output_type": "execute_result"
    }
   ],
   "source": [
    "ypred_lSVC"
   ]
  },
  {
   "cell_type": "code",
   "execution_count": 158,
   "metadata": {
    "collapsed": false
   },
   "outputs": [
    {
     "data": {
      "text/plain": [
       "0.3360995850622407"
      ]
     },
     "execution_count": 158,
     "metadata": {},
     "output_type": "execute_result"
    }
   ],
   "source": [
    "from sklearn import metrics\n",
    "\n",
    "metrics.accuracy_score(Y, ypred_lSVC)"
   ]
  },
  {
   "cell_type": "markdown",
   "metadata": {},
   "source": [
    "# Feature sets definition"
   ]
  },
  {
   "cell_type": "code",
   "execution_count": null,
   "metadata": {
    "collapsed": true
   },
   "outputs": [],
   "source": []
  },
  {
   "cell_type": "code",
   "execution_count": 24,
   "metadata": {
    "collapsed": true
   },
   "outputs": [],
   "source": [
    "features_all = list(df.columns)\n",
    "\n",
    "features_recent = ['partis.2014', \n",
    "            'chomage', \n",
    "            'housing',\n",
    "            'main_res', \n",
    "            'portion_hlm_tenant',\n",
    "            'budget_2015', \n",
    "            'd1.2_2015', \n",
    "            'd1.3_2015', \n",
    "            'd1.4_2015', \n",
    "            'd1.5_2015', \n",
    "            'd1_2015',\n",
    "            'd2.1_2015',\n",
    "            'd2.2_2015',\n",
    "            'd2.3_2015',\n",
    "            'd2_2015',\n",
    "            'depenses_2015',\n",
    "            'r1.1_2015',\n",
    "            'r1.2_2015',\n",
    "            'r1.3_2015',\n",
    "            'r1_2015',\n",
    "            'r2.1_2015',\n",
    "            'r2.2_2015',\n",
    "            'r2_2015',\n",
    "            'recettes_2015',\n",
    "            'NbLycees_2017',\n",
    "            'Privé_2017',\n",
    "            'Public_2017',\n",
    "            'Resultat_2017_(50)',\n",
    "            'Resultat_2017_(50-70)',\n",
    "            'Resultat_2017_(70-80)',\n",
    "            'Resultat_2017_(80-90)',\n",
    "            'Resultat_2017_(90)'\n",
    "           ]\n",
    "\n",
    "features_2001 = ['Pop1999',\n",
    "            'partis.2001', \n",
    "            'budget_2001', \n",
    "            'd1.2_2001', \n",
    "            'd1.3_2001', \n",
    "            'd1.4_2001', \n",
    "            'd1.5_2001', \n",
    "            'd1_2001',\n",
    "            'd2.1_2001',\n",
    "            'd2.2_2001',\n",
    "            'd2.3_2001',\n",
    "            'd2_2001',\n",
    "            'depenses_2001',\n",
    "            'r1.1_2001',\n",
    "            'r1.2_2001',\n",
    "            'r1.3_2001',\n",
    "            'r1_2001',\n",
    "            'r2.1_2001',\n",
    "            'r2.2_2001',\n",
    "            'r2_2001',\n",
    "            'recettes_2001',\n",
    "           ]\n",
    "\n",
    "features_2008 = ['Pop2008',\n",
    "            'partis.2008', \n",
    "            'budget_2008', \n",
    "            'd1.2_2008', \n",
    "            'd1.3_2008', \n",
    "            'd1.4_2008', \n",
    "            'd1.5_2008', \n",
    "            'd1_2008',\n",
    "            'd2.1_2008',\n",
    "            'd2.2_2008',\n",
    "            'd2.3_2008',\n",
    "            'd2_2008',\n",
    "            'depenses_2008',\n",
    "            'r1.1_2008',\n",
    "            'r1.2_2008',\n",
    "            'r1.3_2008',\n",
    "            'r1_2008',\n",
    "            'r2.1_2008',\n",
    "            'r2.2_2008',\n",
    "            'r2_2008',\n",
    "            'recettes_2008',\n",
    "           ]\n",
    "\n",
    "features_2014 = ['Pop2014',\n",
    "            'partis.2014', \n",
    "            'budget_2014', \n",
    "            'd1.2_2014', \n",
    "            'd1.3_2014', \n",
    "            'd1.4_2014', \n",
    "            'd1.5_2014', \n",
    "            'd1_2014',\n",
    "            'd2.1_2014',\n",
    "            'd2.2_2014',\n",
    "            'd2.3_2014',\n",
    "            'd2_2014',\n",
    "            'depenses_2014',\n",
    "            'r1.1_2014',\n",
    "            'r1.2_2014',\n",
    "            'r1.3_2014',\n",
    "            'r1_2014',\n",
    "            'r2.1_2014',\n",
    "            'r2.2_2014',\n",
    "            'r2_2014',\n",
    "            'recettes_2014',\n",
    "           ]\n",
    "\n",
    "features_cluster_2014 = ['Pop2014',\n",
    "            'partis.2014', \n",
    "            'budget_2014', \n",
    "            'Ratio_Resultat_2014_(90)'\n",
    "           ]"
   ]
  },
  {
   "cell_type": "markdown",
   "metadata": {},
   "source": [
    "### Reminder on Budget labels\n",
    "* __d1 : dépenses de fonctionnement__\n",
    "    - d1.1 : achats et autres charges externes\n",
    "    - d1.2 : charges de personnel\n",
    "    - d1.3 : charges financières\n",
    "    - d1.4 : contingents\n",
    "    - d1.5 : subventions versées\n",
    "* __d2 : emplois d'investissements__\n",
    "    - d2.1 : charges a répartir\n",
    "    - d2.2 : depenses d’equipement\n",
    "    - d2.3 : remboursement d'emprunts et dettes assimilées\n",
    "* __r1 : total des produits de fonctionnement__\n",
    "    - r1.1 : autres impôts et taxes\n",
    "    - r1.2 : dotation globale de fonctionnement\n",
    "    - r1.3 : impots locaux\n",
    "* __r2 : total des ressources d'investissement__\n",
    "    - r2.1 : emprunts bancaires et dettes assimilées\n",
    "    - r2.2 : subventions reçues\n",
    "    "
   ]
  },
  {
   "cell_type": "markdown",
   "metadata": {},
   "source": [
    "# Correlation Analysis"
   ]
  },
  {
   "cell_type": "code",
   "execution_count": 25,
   "metadata": {
    "collapsed": false,
    "scrolled": true
   },
   "outputs": [
    {
     "data": {
      "image/png": "[encoded data removed]",
      "text/plain": [
       "<matplotlib.figure.Figure at 0x22ef0097e10>"
      ]
     },
     "metadata": {},
     "output_type": "display_data"
    }
   ],
   "source": [
    "# selection of features for analysis\n",
    "features_selected = [features_2001, features_2008, features_2014]\n",
    "l = len(features_selected)\n",
    "\n",
    "# correlation between features, for years 2001, 2008 and 2014\n",
    "fig = plt.figure(figsize=(30,20))\n",
    "\n",
    "for i,feature in enumerate(features_selected):\n",
    "    correlations = df_wp[feature].corr(method='pearson')\n",
    "    ax = fig.add_subplot(100+10*l+1+i)\n",
    "    cax = ax.matshow(correlations, cmap='RdBu',vmin=-1, vmax=1)\n",
    "    fig.colorbar(cax, fraction=0.046, pad=0.04)\n",
    "    ticks = np.arange(0,len(feature),1)\n",
    "    ax.set_xticks(ticks)\n",
    "    ax.set_yticks(ticks)\n",
    "    ax.set_xticklabels(feature, rotation='vertical')\n",
    "    ax.set_yticklabels(feature)\n",
    "plt.show()"
   ]
  },
  {
   "cell_type": "markdown",
   "metadata": {},
   "source": [
    "# Clustering"
   ]
  },
  {
   "cell_type": "code",
   "execution_count": null,
   "metadata": {
    "collapsed": false
   },
   "outputs": [],
   "source": [
    "# Clean NaN's before clustering \n",
    "df = df.drop(['nom'], axis=1, errors='ignore')\n",
    "df = df.dropna(axis=0, how='any')\n",
    "df.info()\n",
    "\n",
    "# Note : if \"Index : 0 entries\" is printed under this box, run again the \"complete dataframe preprocessing\" block"
   ]
  },
  {
   "cell_type": "code",
   "execution_count": null,
   "metadata": {
    "collapsed": false
   },
   "outputs": [],
   "source": [
    "# choose one feature set\n",
    "features_selected = features_cluster_2014\n",
    "n_features = len(features_selected)\n",
    "\n",
    "data = df[features_selected].values\n",
    "print('NaN remaining ? :', np.isnan(data).any())"
   ]
  },
  {
   "cell_type": "code",
   "execution_count": null,
   "metadata": {
    "collapsed": true
   },
   "outputs": [],
   "source": [
    "# Standardize data\n",
    "scaler = preprocessing.StandardScaler()\n",
    "data_s = scaler.fit_transform(data)\n",
    "\n",
    "# Normalize data (be careful with outliers)\n",
    "normalizer = preprocessing.MinMaxScaler()\n",
    "data_n = normalizer.fit_transform(data)"
   ]
  },
  {
   "cell_type": "code",
   "execution_count": null,
   "metadata": {
    "collapsed": false
   },
   "outputs": [],
   "source": [
    "# Elbow analysis to find optimal number of clusters (k)\n",
    "# ie k that minimizes the sum of squared distances of samples to their closest cluster center\n",
    "\n",
    "data = data_s\n",
    "\n",
    "k_range = np.arange(1,11)\n",
    "clusters_error = []\n",
    "\n",
    "for k in k_range:\n",
    "    cluster_k = cluster.KMeans(n_clusters=k)\n",
    "    cluster_k.fit(data)\n",
    "    clusters_error.append(cluster_k.inertia_)\n",
    "\n",
    "plt.figure(figsize=(6,6))\n",
    "plt.plot(k_range, clusters_error, marker='o')"
   ]
  },
  {
   "cell_type": "code",
   "execution_count": null,
   "metadata": {
    "collapsed": false
   },
   "outputs": [],
   "source": [
    "# Run KMeans on one of the scaled data \n",
    "data = data_s\n",
    "\n",
    "kmeans = cluster.KMeans(n_clusters=4, random_state=0).fit(data)\n",
    "print(kmeans.labels_)"
   ]
  },
  {
   "cell_type": "code",
   "execution_count": null,
   "metadata": {
    "collapsed": false
   },
   "outputs": [],
   "source": [
    "# Plot 2D\n",
    "from pandas.plotting import scatter_matrix\n",
    "\n",
    "scatter_matrix(df[features_selected], alpha=1,\n",
    "               figsize=(15, 15), diagonal='kde', c=kmeans.labels_);"
   ]
  },
  {
   "cell_type": "code",
   "execution_count": null,
   "metadata": {
    "collapsed": false
   },
   "outputs": [],
   "source": [
    "# Plot 3D\n",
    "fig = plt.figure(figsize=(10,10))\n",
    "ax = fig.add_subplot(111, projection='3d')\n",
    "ax.scatter(df[\"partis.2014\"], df[\"Ratio_Resultat_2014_(90)\"], df['budget_2014'], c=kmeans.labels_)"
   ]
  },
  {
   "cell_type": "markdown",
   "metadata": {},
   "source": [
    "## Mini CR de la dernière fois, les pistes à explorer sont :\n",
    "\n",
    "- etudier temporalité des correlations\n",
    "- voir résultats attendus et surprenants dans l'analyse des correlation (lire articles de socio, étdues des votants... comme base de comaraison)\n",
    "- heatmap dans les plot des features, quitte a faire des regressions, afin de faire apparaitres des tendances\n",
    "\n",
    "- Début Mai : isoler un bout de code (500-1000 lignes) a envoyer aux potes à Jospeh qui peuvent corriger/améliorer notre façon de coder\n",
    "- Début Mai : Appeler chercheurs Science Po, Universitaires en socio, etc pour discuter des corrélations, éventuellement qu'ils nous parlent d'une question non-résolu à laquelle on pourrait contribuer avec nos données\n",
    "\n",
    "- Fin Mai : Visualisation indépendantes des chercheurs (à nous) \n",
    "- Fin du projet : un beau code, un rapport\n",
    "- Fin projet : une belle analyse avec des visu et des inputs de chercheurs et sociologues"
   ]
  },
  {
   "cell_type": "code",
   "execution_count": null,
   "metadata": {
    "collapsed": true
   },
   "outputs": [],
   "source": []
  }
 ],
 "metadata": {
  "kernelspec": {
   "display_name": "Python 3",
   "language": "python",
   "name": "python3"
  },
  "language_info": {
   "codemirror_mode": {
    "name": "ipython",
    "version": 3
   },
   "file_extension": ".py",
   "mimetype": "text/x-python",
   "name": "python",
   "nbconvert_exporter": "python",
   "pygments_lexer": "ipython3",
   "version": "3.6.0"
  }
 },
 "nbformat": 4,
 "nbformat_minor": 2
}
